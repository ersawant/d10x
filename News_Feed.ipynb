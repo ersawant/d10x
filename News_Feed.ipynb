{
 "cells": [
  {
   "cell_type": "code",
   "execution_count": 73,
   "metadata": {},
   "outputs": [],
   "source": [
    "#pip install textblob\n",
    "import requests\n",
    "import pandas as pd\n",
    "import json\n",
    "from pandas.io.json import json_normalize\n",
    "pd.set_option('display.max_colwidth', -1)\n",
    "pd.set_option('display.max_columns', None)  "
   ]
  },
  {
   "cell_type": "code",
   "execution_count": 62,
   "metadata": {},
   "outputs": [],
   "source": [
    "api_key=\"API_KEY\"\n",
    "type_of_news=\"everything\" ## everything || top-headlines\n",
    "date_from=\"2019-07-01\"\n",
    "querying_keyword=\"drone\"\n",
    "pageSize=\"100\"\n",
    "source=\"reuters\"\n",
    "news_feed_url = ('https://newsapi.org/v2/'+type_of_news+'?q='+querying_keyword+'&from='+date_from+'&sortBy=popularity&sources='+source+'&pageSize='+pageSize+'&apiKey='+api_key)"
   ]
  },
  {
   "cell_type": "code",
   "execution_count": 63,
   "metadata": {},
   "outputs": [],
   "source": [
    "def get_data(news_feed_url):\n",
    "    response = requests.get(news_feed_url)\n",
    "    return response.json()\n",
    "\n",
    "a=get_data(news_feed_url)"
   ]
  },
  {
   "cell_type": "code",
   "execution_count": 65,
   "metadata": {},
   "outputs": [
    {
     "data": {
      "text/plain": [
       "pandas.core.frame.DataFrame"
      ]
     },
     "execution_count": 65,
     "metadata": {},
     "output_type": "execute_result"
    }
   ],
   "source": [
    "#print(a)\n",
    "news_data=json_normalize(a['articles'])\n",
    "type(news_data)"
   ]
  },
  {
   "cell_type": "code",
   "execution_count": 67,
   "metadata": {},
   "outputs": [],
   "source": [
    "date_stamp=news_data[\"publishedAt\"].str.split(\"T\",n=1,expand=True)\n",
    "news_data[\"published_date\"]=date_stamp[0]\n",
    "news_data[\"published_time\"]=date_stamp[1].str.split(\"Z\",n=1,expand=True)[0]\n"
   ]
  },
  {
   "cell_type": "code",
   "execution_count": 72,
   "metadata": {},
   "outputs": [
    {
     "data": {
      "text/plain": [
       "0     DUBAI (Reuters) - Iranian Deputy Foreign Minister Abbas Araqchi denied on Friday that Iran had lost a drone in the Strait of Hormuz after the United States said that a U.S. Navy ship had “destroyed” an Iranian drone. \\r\\n“We have not lost any drone in the Strai… [+475 chars]   \n",
       "1     DUBAI (Reuters) - Iran’s state television on Friday aired footage it said disproved U.S. President Donald Trump’s assertion that the U.S. Navy has destroyed an Iranian drone in the Gulf. \\r\\nThe video published by the Revolutionary Guards showed aerial views of… [+410 chars]   \n",
       "2     DUBAI (Reuters) - Iran on Friday denied President Donald Trump’s assertion that the U.S. Navy has destroyed one of its drones, saying all of its unmanned planes were safe, but there was no sign of a major Gulf escalation despite fears both sides could blunder… [+3370 chars]    \n",
       "3     UNITED NATIONS (Reuters) - Iranian Foreign Minister Mohammad Javad Zarif said he was not aware of any downing of an Iranian drone in the Strait of Hormuz on Thursday, after President Donald Trump said a U.S. Navy ship had “destroyed” one. \\r\\n“We have no inform… [+192 chars]   \n",
       "4     WASHINGTON (Reuters) - President Donald Trump said the USS Boxer destroyed an Iranian drone in the Strait of Hormuz on Thursday after the aircraft threatened the ship by flying to within 1,000 yards of it. \\r\\nHe called on other countries to condemn Iran and pr… [+101 chars]   \n",
       "5     GENEVA/WASHINGTON (Reuters) - The increased use of drones by Iran and its allies for surveillance and attacks across the Middle East is raising alarms in Washington. \\r\\nThe United States believes that Iran-linked militia in Iraq have recently increased their s… [+7325 chars]  \n",
       "6     GENEVA (Reuters) - Britain’s detention of an Iranian tanker last week was a threatening and incorrect action, Iran’s Defence Minister Amir Hatami said on Monday in a speech broadcast live on state television. \\r\\nRoyal Marines seized the tanker on Thursday for … [+675 chars]   \n",
       "7     DUBAI (Reuters) - Iran’s top military spokesman said all the country’s drones had returned safely to base, the semi-official Tasnim news agency reported, after President Donald Trump said a U.S. Navy ship had “destroyed” one. \\r\\n“All drones belonging to Iran i… [+542 chars]   \n",
       "8     BUENOS AIRES (Reuters) - U.S. Secretary of State Mike Pompeo said on Friday that the United States needed Iran to “come to the table” for negotiations, amid rising tensions between Washington and Tehran. \\r\\nPompeo, speaking at a counter-terrorism summit in Bue… [+672 chars]   \n",
       "9     GENEVA (Reuters) - Israel will be destroyed in half an hour if the United States attacks Iran, a senior Iranian parliamentarian said on Monday, according to the semi-official Mehr news agency. \\r\\nWeeks of tensions culminated last month in U.S. President Donald… [+480 chars]   \n",
       "10    (Reuters) - Tensions between Iran and the West have escalated since U.S. sanctions on Iranian oil exports took full effect and British naval forces seized an Iranian supertanker. \\r\\nBelow is a timeline of recent incidents: \\r\\nMay 2 - The United States, which wi… [+1577 chars]\n",
       "11    CAIRO (Reuters) - Kuwait’s navy and ports authority will prepare security plans to protect the key OPEC exporter’s ports, state news agency KUNA said on Saturday, amid heightened tensions between Iran and the West. \\r\\nA joint cooperation protocol was signed “a… [+1427 chars]  \n",
       "12    WASHINGTON (Reuters) - The United States is not aiming to set up a military coalition against Iran with its new security initiative in the Gulf, but simply “shining a flashlight” in the region to deter attacks on commercial ships, a top Pentagon official told… [+4035 chars]    \n",
       "13    LONDON/DUBAI (Reuters) - British Royal Marines seized a giant Iranian oil tanker in Gibraltar on Thursday for trying to take oil to Syria in violation of EU sanctions, a dramatic step that drew Tehran’s fury and could escalate its confrontation with the West.… [+6055 chars]    \n",
       "14    DUBAI (Reuters) - Yemen’s Iran-aligned Houthi group said it launched a drone attack on Jizan airport in southwestern Saudi Arabia near the Yemeni border early on Wednesday. \\r\\nHouthi military spokesman Yahya Saria said on Facebook the attack disrupted airport … [+281 chars]   \n",
       "15    CAIRO (Reuters) - Yemen’s Houthi military spokesman said the group has targeted drone hangars in Saudi Arabia’s Jizan airport, the Houthis’ Al-Masirah TV reported on Tuesday. \\r\\nThere was no immediate Saudi confirmation of the report. \\r\\nThe Iran-aligned Houthi… [+193 chars] \n",
       "16    WASHINGTON (Reuters) - The Pentagon said on Thursday that the USS Boxer took defensive action against a drone after it came within a “threatening range” in the Strait of Hormuz. \\r\\n“A fixed wing unmanned aerial system (UAS) approached Boxer and closed within a… [+417 chars]   \n",
       "17    BENGHAZI, Libya (Reuters) - Eastern Libyan forces destroyed on Wednesday the main control room for drones at Mitiga airbase in the capital, a spokesman said. \\r\\nEarlier on Wednesday, Mitiga airport said it had halted civilian traffic following an air strike. \\r… [+99 chars]   \n",
       "18    CAIRO (Reuters) - Saudi-led military coalition said on Thursday it had intercepted drones launched by Yemen’s Houthi group that was targeting Jizan airport, a statement on Saudi state media said. \\r\\nEarlier, the Houthis said they carried out drone attacks on J… [+258 chars]   \n",
       "19    CAIRO (Reuters) - A Saudi-led military coalition said on Saturday it had intercepted and destroyed drones launched by Yemen’s Houthi group at targets in the kingdom, the Saudi Press Agency reported. \\r\\n“The drones were destroyed in air space,” a coalition stat… [+326 chars]   \n",
       "20    DUBAI/WASHINGTON (Reuters) - The United States and Iran were at odds on Friday about a U.S. assertion that its Navy had brought down an Iranian drone in the Gulf, with Tehran showing video footage that it said disproved the incident even happened. \\r\\nA senior … [+4914 chars]  \n",
       "21    DUBAI (Reuters) - A Saudi-led military coalition said on Monday it had intercepted a drone launched by Yemen’s Houthi group that was heading toward the kingdom, a statement on Saudi state media said. \\r\\n“The drone was destroyed in Yemeni airspace,” the coaliti… [+232 chars]   \n",
       "22    GENEVA (Reuters) - Iran is not looking for war with any country, Iranian army chief Major General Abdolrahim Mousavi said on Monday, according to the semi-official Mehr news agency. \\r\\nTensions have spiked between Iran and the United States after the Islamic R… [+244 chars]   \n",
       "23    DUBAI (Reuters) - The United States conveyed a message to Iran warning of a limited strike against the country after its unmanned drone was shot down in the Gulf, Iran’s civil defense agency chief Gholamreza Jalali was quoted as saying by the Fars news agency… [+683 chars]     \n",
       "24    CAIRO (Reuters) - The Saudi-led military coalition spokesman said late on Monday that the coalition had intercepted and destroyed a drone launched by Yemen’s Houthi group at civil targets in the kingdom, the Saudi Press Agency reported. \\r\\n“The drone has not a… [+366 chars]   \n",
       "25    CAIRO (Reuters) - Yemen’s Iran-aligned Houthi movement said on Saturday that it carried out drone attacks on warplane hangars and other military sites in Jizan airport in southern Saudi Arabia, the group’s Al-Masirah TV reported. \\r\\nThere was no Saudi confirma… [+222 chars]   \n",
       "26    CAIRO (Reuters) - Yemen’s Iran-aligned Houthi movement said on Saturday that it carried out drone attacks on military sites at Abha airport in southern Saudi Arabia, the group’s Al-Masirah TV reported. \\r\\nThere was no Saudi confirmation of the attacks. \\r\\nEarli… [+162 chars] \n",
       "27    WASHINGTON (Reuters) - The United States will destroy any Iranian drones that fly too closely to its ships and has “clear evidence” that it shot down such a drone on Thursday, a senior Trump administration official said on Friday. \\r\\n“If they fly too close to … [+143 chars]   \n",
       "28    WASHINGTON (Reuters) - U.S. President Donald Trump said he is confident U.S. forces on Thursday shot down an Iranian drone off Iran’s southern coast, after Iran denied losing any of its unmanned aircraft over the Gulf. \\r\\nTrump, who was speaking at an unrelate… [+160 chars]   \n",
       "29    CAIRO (Reuters) - Yemen’s Iran-aligned Houthi movement said on Monday that it carried out drone attacks on Saudi Arabia’s Abha airport and Tihama power station, the group’s Al-Masirah TV reported. \\r\\nThere was no Saudi confirmation of the attacks. \\r\\nReporting … [+41 chars]  \n",
       "                                                                                                                                              ...                                                                                                                                           \n",
       "70    (The opinions expressed here are those of the author, a columnist for Reuters.) \\r\\nBy Peter Apps \\r\\nLONDON, July 3 (Reuters) - For those who accuse U.S. President Donald Trump of being more at home in the company of dictators, autocrats and authoritarian rulers… [+6679 chars]\n",
       "71    Reuters, the news and media division of Thomson Reuters, is the worlds largest international multimedia news provider reaching more than one billion people every day. Reuters provides trusted business, financial, national, and international news to profession… [+169 chars]     \n",
       "72    Reuters, the news and media division of Thomson Reuters, is the worlds largest international multimedia news provider reaching more than one billion people every day. Reuters provides trusted business, financial, national, and international news to profession… [+169 chars]     \n",
       "73    Reuters, the news and media division of Thomson Reuters, is the worlds largest international multimedia news provider reaching more than one billion people every day. Reuters provides trusted business, financial, national, and international news to profession… [+169 chars]     \n",
       "74    Reuters, the news and media division of Thomson Reuters, is the worlds largest international multimedia news provider reaching more than one billion people every day. Reuters provides trusted business, financial, national, and international news to profession… [+169 chars]     \n",
       "75    Reuters, the news and media division of Thomson Reuters, is the worlds largest international multimedia news provider reaching more than one billion people every day. Reuters provides trusted business, financial, national, and international news to profession… [+169 chars]     \n",
       "76    TOKYO (Reuters) - Oil prices rose more than 1% on Friday after the U.S. Navy destroyed an Iranian drone in the Strait of Hormuz, a major chokepoint for global crude flows, again raising tensions in the Middle East. \\r\\nBrent crude LCOc1 futures were up 82 cents… [+2152 chars]  \n",
       "77    WASHINGTON (Reuters) - The worldwide non-military drone market, dominated by manufacturers in China, will triple in size to $14.3 billion in sales over the next decade, a study said on Wednesday, even as U.S. officials warn of national security risks. \\r\\nThe m… [+1806 chars]  \n",
       "78    (Reuters) - Gold on Friday surpassed the key $1,450 level for the first time since May 2013, after comments from a top Federal Reserve official bolstered expectations of an interest rate cut, while fresh tensions in the Middle East further supported bullion. … [+2499 chars]    \n",
       "79    NEW YORK (Reuters) - Oil prices steadied on Friday after steep losses in the previous session, supported by rising tensions between the United States and Iran, but weighed by concerns slowing economic growth could dent global oil demand. \\r\\nBenchmark crude pri… [+2435 chars]  \n",
       "80    DUBAI (Reuters) - Members of the Organization of the Petroleum Exporting Countries (OPEC) should have unity among themselves, Iran’s Oil Minister Bijan Zanganeh was quoted as saying on Monday, adding that Tehran backed cooperation with non-OPEC oil exporter s… [+2257 chars]    \n",
       "81    TOKYO (Reuters) - Oil futures hit a six-week high on Thursday as a storm built in the Gulf of Mexico, threatening crude output, while an incident with a British tanker in the Middle East highlighted ongoing tensions in the region. \\r\\nU.S. West Texas Intermedia… [+2414 chars]  \n",
       "82    TOKYO (Reuters) - U.S. oil futures hit their highest in over a month on Thursday as a potential hurricane threatened crude output in the Gulf of Mexico and as an incident involving a British tanker in the Middle East highlighted ongoing tensions there. \\r\\nU.S.… [+2467 chars]  \n",
       "83    SEOUL (Reuters) - Oil prices rose on Friday, hovering near six-week highs, as U.S. oil producers in the Gulf of Mexico cut more than half their output in the face of a tropical storm and as tensions continued to simmer in the Middle East. \\r\\nBrent crude LCOc1 … [+2362 chars]  \n",
       "84    SEOUL (Reuters) - Oil prices rose on Friday as U.S. oil producers in the Gulf of Mexico cut more than half their output in the face of a tropical storm and as tensions continued in the Middle East. \\r\\nBrent crude LCOc1 futures were up 37 cents, or 0.6%, at $66… [+1871 chars]  \n",
       "85    (Reuters) - Gold prices rose on Friday and were on track to post a weekly gain, consolidating above $1,400 as renewed Sino-U.S. trade tensions amid global growth jitters and prospects of an interest rate cut by the U.S. Federal Reserve stoked safe-haven deman… [+2496 chars]    \n",
       "86    TOKYO (Reuters) - Oil prices dipped on Tuesday on demand concerns following the latest signs the U.S.-China trade war is dragging on the global economy, although the potential for conflicts in the Middle East offered support. \\r\\nBrent crude futures were down 1… [+2434 chars]  \n",
       "87    TOKYO (Reuters) - Oil fell on Tuesday amid worries over the outlook for demand after the latest signs that international trade disputes have been dragging on the global economy, although the potential for conflicts in the Middle East offered support to prices… [+2488 chars]    \n",
       "88    DUBAI (Reuters) - Iranian Deputy Foreign Minister Abbas Araqchi denied on Friday that Iran had lost a drone in the Strait of Hormuz after the United States said that a U.S. Navy ship had “destroyed” an Iranian drone. \\r\\n“We have not lost any drone in the Strai… [+475 chars]   \n",
       "89    CAIRO (Reuters) - A drone attack by Yemen’s Iran-aligned Houthi movement on Abha Airport in Saudi Arabia early on Tuesday left nine people injured, a Saudi-led coalition statement said. \\r\\nThe Saudi-led coalition in Yemen said in the statement carried by the S… [+756 chars]   \n",
       "90    DUBAI/WASHINGTON (Reuters) - The United States and Iran were at odds on Friday about a U.S. assertion that its Navy had brought down an Iranian drone in the Gulf, with Tehran showing video footage that it said disproved the incident even happened. \\r\\nA senior … [+4919 chars]  \n",
       "91    DUBAI (Reuters) - Iran on Friday denied President Donald Trump’s assertion that the U.S. Navy has destroyed one of its drones, saying all of its unmanned planes were safe, but there was no sign of a major Gulf escalation despite fears both sides could blunder… [+3370 chars]    \n",
       "92    TRIPOLI/ANKARA (Reuters) - Forces loyal to eastern Libyan commander Khalifa Haftar said they destroyed a Turkish drone parked at Tripoli’s only working airport on Sunday, halting temporarily civilian flights as tensions between Ankara and the eastern administ… [+2182 chars]    \n",
       "93    WASHINGTON (Reuters) - The Federal Aviation Administration has again delayed plans to propose new rules requiring the remote identification of drones, according to records and a member of Congress on Wednesday. \\r\\nCongress directed the FAA in 2016 to issue reg… [+2411 chars]  \n",
       "94    DUBAI (Reuters) - The United States conveyed a message to Iran warning of a limited strike against the country after its unmanned drone was shot down in the Gulf, Iran’s civil defence agency chief Gholamreza Jalali was quoted as saying by the Fars news agency… [+683 chars]     \n",
       "95    CAIRO (Reuters) - Yemen’s Iran-aligned Houthi movement said on Saturday that it carried out drone attacks on warplane hangars and other military sites in Jizan airport in southern Saudi Arabia, the group’s Al-Masirah TV reported. \\r\\nThere was no Saudi confirma… [+223 chars]   \n",
       "96    GENEVA/WASHINGTON (Reuters) - The increased use of drones by Iran and its allies for surveillance and attacks across the Middle East is raising alarms in Washington. \\r\\nThe United States believes that Iran-linked militia in Iraq have recently increased their s… [+7333 chars]  \n",
       "97    GENEVA (Reuters) - Iranian Foreign Minister Mohammad Javad Zarif was on his way to New York on Saturday to attend a United Nations conference, the official Islamic Republic News Agency said. \\r\\nZarif’s trip comes at a time of spiralling U.S.-Iranian tensions. … [+586 chars]   \n",
       "98    PARIS (Reuters) - Iran’s breaching of caps on its uranium enrichment after the United States pulled out of world powers’ nuclear deal with Tehran was “a bad reaction to ... (a) bad decision”, raising fears of a stumble into war, France’s foreign minister said… [+2286 chars]    \n",
       "99    DUBAI (Reuters) - The United Arab Emirates had been planning its recent troop drawdown in Yemen for over a year and coordinated its move with key ally Saudi Arabia, a senior Emirati official said on Monday. \\r\\nThe UAE, a leading member of the Western-backed Su… [+3161 chars]  \n",
       "Name: content, Length: 100, dtype: object"
      ]
     },
     "execution_count": 72,
     "metadata": {},
     "output_type": "execute_result"
    }
   ],
   "source": [
    "news_data['content']"
   ]
  }
 ],
 "metadata": {
  "kernelspec": {
   "display_name": "Python 3",
   "language": "python",
   "name": "python3"
  },
  "language_info": {
   "codemirror_mode": {
    "name": "ipython",
    "version": 3
   },
   "file_extension": ".py",
   "mimetype": "text/x-python",
   "name": "python",
   "nbconvert_exporter": "python",
   "pygments_lexer": "ipython3",
   "version": "3.7.3"
  }
 },
 "nbformat": 4,
 "nbformat_minor": 2
}
