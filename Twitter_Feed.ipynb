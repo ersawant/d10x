{
 "cells": [
  {
   "cell_type": "code",
   "execution_count": 48,
   "metadata": {},
   "outputs": [],
   "source": [
    "import twitter\n",
    "#pip install textblob\n",
    "import requests\n",
    "import pandas as pd\n",
    "import json\n",
    "from pandas.io.json import json_normalize\n",
    "pd.set_option('display.max_colwidth', -1)\n",
    "pd.set_option('display.max_columns', None)  \n",
    "import re\n",
    "import time\n",
    "import os\n",
    "import tweepy as tw\n",
    "from textblob import TextBlob\n",
    "import nltk"
   ]
  },
  {
   "cell_type": "code",
   "execution_count": 14,
   "metadata": {},
   "outputs": [],
   "source": [
    "consumer_key=\"CONSUMER_KEY\"\n",
    "consumer_secret=\"CONSUMER_SECRET\"\n",
    "access_token_key=\"ACCESS_TOKEN\"\n",
    "access_token_secret=\"ACCESS_TOKEN_SECRET\"\n",
    "auth = tw.OAuthHandler(consumer_key, consumer_secret)\n",
    "auth.set_access_token(access_token_key, access_token_secret)\n",
    "api = tw.API(auth, wait_on_rate_limit=True)"
   ]
  },
  {
   "cell_type": "code",
   "execution_count": 45,
   "metadata": {},
   "outputs": [],
   "source": [
    "def clean_tweet(tweet): \n",
    "        return ' '.join(re.sub(\"(@[A-Za-z0-9]+)|([^0-9A-Za-z \\t])|(\\w+:\\/\\/\\S+)\", \" \", tweet).split()) \n",
    "    \n",
    "def get_tweet_sentiment(tweet): \n",
    "        # create TextBlob object of passed tweet text \n",
    "        #analysis = textblob(clean_tweet(tweet)) \n",
    "        analysis = TextBlob(tweet)\n",
    "        # set sentiment \n",
    "        if analysis.sentiment.polarity > 0: \n",
    "            return 'positive'\n",
    "        elif analysis.sentiment.polarity == 0: \n",
    "            return 'neutral'\n",
    "        else: \n",
    "            return 'negative'"
   ]
  },
  {
   "cell_type": "code",
   "execution_count": 46,
   "metadata": {
    "scrolled": true
   },
   "outputs": [
    {
     "name": "stdout",
     "output_type": "stream",
     "text": [
      "File Deleted\n",
      "Processing completed for #spill\n",
      "File Deleted\n",
      "Processing completed for #gulfofoman\n",
      "File Deleted\n",
      "Processing completed for #mariana\n"
     ]
    }
   ],
   "source": [
    "#search_words=[\"#gulfofoman\",\"#mariana\",\"#war\",\"#spill\"]\n",
    "search_words=[\"#spill\",\"#gulfofoman\",\"#mariana\"]\n",
    "\n",
    "for word in search_words:\n",
    "    search_words = word\n",
    "    date_since = \"2019-07-01\"\n",
    "\n",
    "    tweets = tw.Cursor(api.search,\n",
    "              q=search_words,\n",
    "              lang=\"en\",\n",
    "              since=date_since).items(100000000000000000000000)\n",
    "    tweet_data = [[tweet.user.screen_name, tweet.user.location,tweet.text,tweet.created_at,tweet.user.id] for tweet in tweets ]#if authenticate_user(tweet.user.id,10,10)]\n",
    "    tweet_text = pd.DataFrame(data=tweet_data,columns=['user', \"location\",\"text\",\"created_date\",\"userid\"])\n",
    "    tweet_text[\"text\"] =tweet_text[\"text\"].map(clean_tweet)\n",
    "    tweet_text[\"sentiment\"] =tweet_text[\"text\"].map(get_tweet_sentiment)\n",
    "    filePath=\"C:\\\\Users\\\\Akshay\\\\Desktop\\\\pycode\\\\\"+search_words+\".xlsx\"\n",
    "    if os.path.exists(filePath):\n",
    "        os.remove(filePath)\n",
    "        print(\"File Deleted\")\n",
    "    else:\n",
    "        print(\"Can not delete the file as it doesn't exists\")\n",
    "    tweet_text.to_excel(filePath,sheet_name=search_words)\n",
    "    print(\"Processing completed for \"+search_words)"
   ]
  },
  {
   "cell_type": "code",
   "execution_count": 47,
   "metadata": {},
   "outputs": [],
   "source": []
  },
  {
   "cell_type": "code",
   "execution_count": 85,
   "metadata": {},
   "outputs": [],
   "source": [
    "def authenticate_user(userid,friends_thres,followers_thres):\n",
    "    followers=api.followers_ids(userid)\n",
    "    friends=api.friends_ids(userid)\n",
    "    if len(followers) > followers_thres & len(friends)>friends_thres:\n",
    "        return True\n",
    "    else :\n",
    "        return False\n",
    "    "
   ]
  }
 ],
 "metadata": {
  "kernelspec": {
   "display_name": "Python 3",
   "language": "python",
   "name": "python3"
  },
  "language_info": {
   "codemirror_mode": {
    "name": "ipython",
    "version": 3
   },
   "file_extension": ".py",
   "mimetype": "text/x-python",
   "name": "python",
   "nbconvert_exporter": "python",
   "pygments_lexer": "ipython3",
   "version": "3.7.3"
  }
 },
 "nbformat": 4,
 "nbformat_minor": 2
}
